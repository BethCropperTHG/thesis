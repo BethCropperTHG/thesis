{
 "cells": [
  {
   "cell_type": "code",
   "execution_count": 113,
   "metadata": {},
   "outputs": [],
   "source": [
    "import matplotlib.pyplot as plt\n",
    "from matplotlib.patches import Rectangle\n",
    "import numpy as np\n",
    "%matplotlib inline"
   ]
  },
  {
   "cell_type": "code",
   "execution_count": 56,
   "metadata": {},
   "outputs": [],
   "source": [
    "def line(co1, co2):\n",
    "    co1, co2 = np.array(co1), np.array(co2)\n",
    "    x1,y1 = co1\n",
    "    x2,y2 = co2\n",
    "    x = np.linspace(x1,x2,100)\n",
    "    y = ((y2 - y1)/(x2 - x1)) * (x - x1) + y1\n",
    "    \n",
    "    return(x,y)\n",
    "\n",
    "def degtorad(angle):\n",
    "    return (angle/360) * 2 * np.pi\n",
    "\n",
    "def circle(c,r,th,rot):\n",
    "    theta = np.linspace(0, th, 360) + rot\n",
    "    x = r * np.cos(theta) + c[0]\n",
    "    y = r * np.sin(theta) + c[1]\n",
    "    return(x,y)\n",
    "\n",
    "def polarline(cstart,l,angle):\n",
    "    dx = l * np.cos(angle)\n",
    "    dy = l * np.sin(angle)\n",
    "    dr = [dx,dy]\n",
    "    cfin = np.array(cstart) + np.array(dr)\n",
    "    return(line(cstart,cfin))"
   ]
  },
  {
   "cell_type": "code",
   "execution_count": 185,
   "metadata": {},
   "outputs": [
    {
     "data": {
      "image/png": "[encoded data removed]",
      "text/plain": [
       "<Figure size 504x504 with 1 Axes>"
      ]
     },
     "metadata": {
      "needs_background": "light"
     },
     "output_type": "display_data"
    }
   ],
   "source": [
    "fig = plt.figure(figsize = [7,7])\n",
    "ax = fig.add_subplot(111)\n",
    "\n",
    "c1x, c1y = circle([0,0],2,4*np.pi/3 - 0.2,5*np.pi/3 + 0.1)\n",
    "c2x, c2y = circle([0,0],2,2*np.pi/3 - 0.2,np.pi + 0.1)\n",
    "\n",
    "ll1x, ll1y = line([-2,c1y[-1]],[-4,c1y[-1]])\n",
    "ll2x, ll2y = line([-2,c2y[0]],[-4,c2y[0]])\n",
    "rl1x,rl1y = polarline([c1x[0],c1y[0]],2,5 * np.pi/3)\n",
    "rl2x,rl2y = polarline([c2x[-1],c2y[-1]],2,5 * np.pi/3)\n",
    "\n",
    "beaminx, beaminy = line([-4.5,0],[0,0])\n",
    "beamcupx,beamcupy = line([0,0],[0.9 - 4.5 * 0.05,0])\n",
    "beamoutx, beamouty = polarline([0,0],4.4,5*np.pi/3)\n",
    "\n",
    "rotarr1x, rotarr1y = circle([0,0],2.4, np.pi/6, 5*np.pi/3 + 0.1)\n",
    "rotarr2x, rotarr2y = circle([0,0],2.4, np.pi/6, 5*np.pi/3 - np.pi/6 - 0.1)\n",
    "\n",
    "\n",
    "ax.plot(c1x,c1y, color = 'black', lw = 3)\n",
    "ax.plot(c2x,c2y, color = 'black', lw = 3)\n",
    "ax.plot(ll1x,ll1y, color = 'black', lw = 2)\n",
    "ax.plot(ll2x,ll2y, color = 'black', lw = 2)\n",
    "ax.plot(rl1x,rl1y, color = 'black', lw = 2)\n",
    "ax.plot(rl2x,rl2y, color = 'black', lw = 2)\n",
    "ax.plot(rotarr1x, rotarr1y, color = 'black', lw = 2)\n",
    "ax.plot(rotarr2x, rotarr2y, color = 'black', lw = 2)\n",
    "ax.plot(beaminx, beaminy, color = 'black', lw = 1, linestyle = 'dashed')\n",
    "ax.plot(beamoutx, beamouty, color = 'black', lw = 1, linestyle = 'dashed')\n",
    "ax.plot(beamcupx, beamcupy, color = 'black', lw = 1, linestyle = 'dashed')\n",
    "\n",
    "ax.arrow(rotarr1x[-1],rotarr1y[-1],-0.01 * np.sin(11*np.pi/6 + 0.1),0.01 * np.cos(11*np.pi/6 + 0.1), width = 0.05, facecolor = 'black')\n",
    "ax.arrow(rotarr2x[0],rotarr2y[0],0.01 * np.sin(5*np.pi/3 - np.pi/6 - 0.1),-0.01 * np.cos(5*np.pi/3 - np.pi/6 - 0.1), width = 0.05, facecolor = 'black')\n",
    "ax.arrow(beamoutx[-1],beamouty[-1],0.01 * np.cos(5 * np.pi/3), 0.01 * np.sin(5 * np.pi/3), width = 0.05, facecolor = 'black')\n",
    "ax.arrow(beamcupx[-1],beamcupy[-1],0.01,0, width = 0.05, facecolor = 'black')\n",
    "ax.arrow(beaminx[0],0,0.01,0, width = 0.05, facecolor = 'black')\n",
    "\n",
    "ax.axvline(0,0.43,0.57,color = 'xkcd:black',lw = 2)\n",
    "\n",
    "ax.add_patch(Rectangle([0.9,-0.25],0.7,0.5, ec = 'black',fc = 'grey'))\n",
    "\n",
    "ax.text(3.5,1.5,'Faraday Cup', ha = 'center', va = 'center', usetex = True, fontsize = 'xx-large')\n",
    "ax.text(0,3,'Target Chamber', ha = 'center', va = 'center', usetex = True, fontsize = 'xx-large')\n",
    "ax.text(-3.4,0.5,'Incoming Beam', ha = 'center', va = 'center', usetex = True, fontsize = 'xx-large')\n",
    "ax.text(-3,-3,'Target Ladder', ha = 'center', va = 'center', usetex = True, fontsize = 'xx-large')\n",
    "ax.text(2,-4.3,'To Spectrograph', ha = 'center', va = 'center', usetex = True, fontsize = 'xx-large')\n",
    "\n",
    "ax.arrow(0,2.7,0,-0.4, head_width = 0.1, facecolor = 'black')\n",
    "ax.arrow(3.5,1.2,-1.7,-1, head_width = 0.1, facecolor = 'black')\n",
    "ax.arrow(-3,-2.7,2.8,2.3, head_width = 0.1, facecolor = 'black')\n",
    "\n",
    "ax.set_xticks(np.arange(-5,6))\n",
    "ax.set_yticks(np.arange(-5,6))\n",
    "ax.axis('off')\n",
    "\n",
    "fig.savefig('target_chamber')"
   ]
  },
  {
   "cell_type": "code",
   "execution_count": null,
   "metadata": {},
   "outputs": [],
   "source": []
  }
 ],
 "metadata": {
  "kernelspec": {
   "display_name": "Python 3",
   "language": "python",
   "name": "python3"
  },
  "language_info": {
   "codemirror_mode": {
    "name": "ipython",
    "version": 3
   },
   "file_extension": ".py",
   "mimetype": "text/x-python",
   "name": "python",
   "nbconvert_exporter": "python",
   "pygments_lexer": "ipython3",
   "version": "3.8.3"
  }
 },
 "nbformat": 4,
 "nbformat_minor": 4
}
