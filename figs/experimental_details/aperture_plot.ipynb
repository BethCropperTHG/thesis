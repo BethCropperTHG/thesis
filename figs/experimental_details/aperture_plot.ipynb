{
 "cells": [
  {
   "cell_type": "code",
   "execution_count": 1,
   "metadata": {},
   "outputs": [],
   "source": [
    "import matplotlib.pyplot as plt\n",
    "import numpy as np\n",
    "%matplotlib inline"
   ]
  },
  {
   "cell_type": "code",
   "execution_count": 2,
   "metadata": {},
   "outputs": [],
   "source": [
    "def line(co1, co2):\n",
    "    co1, co2 = np.array(co1), np.array(co2)\n",
    "    x1,y1 = co1\n",
    "    x2,y2 = co2\n",
    "    x = np.linspace(x1,x2,100)\n",
    "    y = ((y2 - y1)/(x2 - x1)) * (x - x1) + y1\n",
    "    \n",
    "    return np.array([x,y])"
   ]
  },
  {
   "cell_type": "code",
   "execution_count": 17,
   "metadata": {},
   "outputs": [
    {
     "data": {
      "image/png": "[encoded data removed]",
      "text/plain": [
       "<Figure size 504x504 with 1 Axes>"
      ]
     },
     "metadata": {
      "needs_background": "light"
     },
     "output_type": "display_data"
    }
   ],
   "source": [
    "fig = plt.figure(figsize = [7,7])\n",
    "ax = fig.add_subplot(111)\n",
    "\n",
    "ax.axhline(2,0.2,0.8,color = 'xkcd:black',lw = 3)\n",
    "ax.axhline(-2,0.2,0.8,color = 'xkcd:black',lw = 3)\n",
    "ax.axvline(2,0.2,0.8,color = 'xkcd:black', lw = 3)\n",
    "ax.axvline(-2,0.2,0.8,color = 'xkcd:black', lw = 3)\n",
    "\n",
    "ax.axvline(0,color = 'xkcd:grey', linestyle = 'dashed')\n",
    "ax.axhline(0,color = 'xkcd:grey', linestyle = 'dashed')\n",
    "\n",
    "x1,y1 = line([-2.5,0],[0,3])\n",
    "x2,y2 = line([2.5,0],[0,3])\n",
    "x3,y3 = line([-2.5,0],[0,-3])\n",
    "x4,y4 = line([2.5,0],[0,-3])\n",
    "\n",
    "ax.plot(x1,y1, color = 'xkcd:black')\n",
    "ax.plot(x2,y2, color = 'xkcd:black')\n",
    "ax.plot(x3,y3, color = 'xkcd:black')\n",
    "ax.plot(x4,y4, color = 'xkcd:black')\n",
    "\n",
    "ax.fill_between(x1,y1,where=x1>=-2, color = 'xkcd:light grey')\n",
    "ax.fill_between(x1,y1,2,where=x1>=-2, color = 'xkcd:white')\n",
    "ax.fill_between(x2,y2,where=x1>=-2, color = 'xkcd:light grey')\n",
    "ax.fill_between(x2,y2,2,where=x1>=-2, color = 'xkcd:white')\n",
    "ax.fill_between(x3,y3,where=x1>=-2, color = 'xkcd:light grey')\n",
    "ax.fill_between(x3,y3,-2,where=x1>=-2, color = 'xkcd:white')\n",
    "ax.fill_between(x4,y4,where=x1>=-2, color = 'xkcd:light grey')\n",
    "ax.fill_between(x4,y4,-2,where=x1>=-2, color = 'xkcd:white')\n",
    "\n",
    "ax.annotate(s='', xy=(4,3), xytext=(4,0), arrowprops=dict(arrowstyle='<->',shrinkA=0, shrinkB=0))\n",
    "ax.annotate(s='', xy=(2.5,-4), xytext=(0,-4), arrowprops=dict(arrowstyle='<->',shrinkA=0, shrinkB=0))\n",
    "\n",
    "ax.text(-2,3.2,'X\\nSlit', ha = 'center', weight = 'semibold', fontsize = 'x-large')\n",
    "ax.text(2,3.2,'X\\nSlit', ha = 'center', weight = 'semibold', fontsize = 'x-large')\n",
    "\n",
    "ax.text(-3.5,-2,'Y\\nSlit', ha = 'center', va = 'center', weight = 'semibold', fontsize = 'x-large')\n",
    "ax.text(-3.5,2,'Y\\nSlit', ha = 'center', va = 'center', weight = 'semibold', fontsize = 'x-large')\n",
    "\n",
    "ax.text(4.3,1.5,'$B$', ha = 'center', va = 'center', usetex = True, fontsize = 'xx-large')\n",
    "ax.text(1.25,-4.3,'$A$', ha = 'center', va = 'center', usetex = True, fontsize = 'xx-large')\n",
    "\n",
    "ax.axis('off')\n",
    "\n",
    "ax.set_xticks(np.arange(-5,6))\n",
    "ax.set_yticks(np.arange(-5,6))\n",
    "\n",
    "fig.savefig('aperture.png')"
   ]
  },
  {
   "cell_type": "code",
   "execution_count": 4,
   "metadata": {},
   "outputs": [
    {
     "data": {
      "text/plain": [
       "1"
      ]
     },
     "execution_count": 4,
     "metadata": {},
     "output_type": "execute_result"
    }
   ],
   "source": [
    "x,y = [1,2]\n",
    "x"
   ]
  },
  {
   "cell_type": "code",
   "execution_count": null,
   "metadata": {},
   "outputs": [],
   "source": []
  },
  {
   "cell_type": "code",
   "execution_count": null,
   "metadata": {},
   "outputs": [],
   "source": []
  },
  {
   "cell_type": "code",
   "execution_count": null,
   "metadata": {},
   "outputs": [],
   "source": []
  }
 ],
 "metadata": {
  "kernelspec": {
   "display_name": "Python 3",
   "language": "python",
   "name": "python3"
  },
  "language_info": {
   "codemirror_mode": {
    "name": "ipython",
    "version": 3
   },
   "file_extension": ".py",
   "mimetype": "text/x-python",
   "name": "python",
   "nbconvert_exporter": "python",
   "pygments_lexer": "ipython3",
   "version": "3.8.3"
  }
 },
 "nbformat": 4,
 "nbformat_minor": 4
}
